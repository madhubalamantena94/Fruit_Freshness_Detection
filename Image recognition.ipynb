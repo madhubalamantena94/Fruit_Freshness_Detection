{
 "cells": [
  {
   "cell_type": "markdown",
   "id": "6232345e",
   "metadata": {},
   "source": [
    "## Importing the libraries"
   ]
  },
  {
   "cell_type": "code",
   "execution_count": 2,
   "id": "a38cfb33",
   "metadata": {},
   "outputs": [],
   "source": [
    "import numpy as np \n",
    "import pandas as pd \n",
    "import matplotlib.pyplot as plt\n",
    "import cv2\n",
    "from tqdm import tqdm\n",
    "import random\n",
    "import os\n",
    "\n",
    "from tensorflow import keras\n",
    "from tensorflow.keras.preprocessing.image import ImageDataGenerator\n",
    "from tensorflow.keras.preprocessing.image import img_to_array,load_img\n",
    "from tensorflow.keras.applications.inception_v3 import InceptionV3\n",
    "from tensorflow.keras.callbacks import EarlyStopping,ModelCheckpoint\n",
    "from tensorflow.keras import datasets, layers, models\n",
    "from tensorflow.keras.layers import GlobalAveragePooling2D,GlobalMaxPooling2D\n",
    "from tensorflow.keras.models import Model,Sequential\n",
    "from tensorflow.keras.optimizers import Adam\n",
    "import tensorflow as tf\n",
    "\n",
    "from keras.applications.vgg16 import VGG16, preprocess_input\n",
    "from keras.callbacks import ModelCheckpoint, EarlyStopping\n",
    "from keras.layers import Dense, Dropout, Flatten, GlobalAveragePooling2D\n",
    "\n",
    "from sklearn.metrics import confusion_matrix,classification_report"
   ]
  },
  {
   "cell_type": "markdown",
   "id": "611bacba",
   "metadata": {},
   "source": [
    "## Loading the image data set"
   ]
  },
  {
   "cell_type": "code",
   "execution_count": 3,
   "id": "396e0e05",
   "metadata": {},
   "outputs": [],
   "source": [
    "def data_load():\n",
    "    X=[]\n",
    "    dir_path=\"/Users/bhuvaneshmarineni/ODU subject related/Computer Vision/dataset/train\"\n",
    "    for sub_dir in tqdm(os.listdir(dir_path)):\n",
    "        path_main=os.path.join(dir_path,sub_dir)\n",
    "        i=0\n",
    "        for img_name in os.listdir(path_main):\n",
    "            if i>=6:\n",
    "                break\n",
    "            img=cv2.imread(os.path.join(path_main,img_name))\n",
    "            img=cv2.resize(img,(224,224))\n",
    "            img=cv2.cvtColor(img,cv2.COLOR_BGR2RGB)\n",
    "            X.append(img)\n",
    "            i+=1\n",
    "    return X"
   ]
  },
  {
   "cell_type": "code",
   "execution_count": null,
   "id": "6512e889",
   "metadata": {},
   "outputs": [],
   "source": [
    "print(\"Loading data...\")\n",
    "arr_img = np.array(data_load())\n",
    "print(\"Data loaded successfully!\")\n",
    "print(\"Array shape:\", arr_img.shape)\n"
   ]
  },
  {
   "cell_type": "code",
   "execution_count": null,
   "id": "5214205e",
   "metadata": {},
   "outputs": [],
   "source": [
    "arr_img=np.array(data_load())\n",
    "arr_img.shape"
   ]
  },
  {
   "cell_type": "markdown",
   "id": "181ad106",
   "metadata": {},
   "source": [
    "## Visualizing the images"
   ]
  },
  {
   "cell_type": "code",
   "execution_count": 7,
   "id": "474f3950",
   "metadata": {},
   "outputs": [],
   "source": [
    "def img_disp(X):\n",
    "    if X.shape[0]==36:\n",
    "        f, ax= plt.subplots(6,6, figsize=(40,60))\n",
    "        list_fruits=['rottenbanana','freshoranges','rottenoranges', 'freshbanana', 'rottenapples',   'freshapples']\n",
    "        for i,img in enumerate(X):\n",
    "            ax[i//6][i%6].imshow(img, aspect='auto')\n",
    "            ax[i//6][i%6].set_title(list_fruits[i//6])\n",
    "        plt.show()\n",
    "    else:\n",
    "        print('Cannot plot')"
   ]
  },
  {
   "cell_type": "code",
   "execution_count": null,
   "id": "0005a053",
   "metadata": {},
   "outputs": [],
   "source": [
    "img_disp(arr_img)\n"
   ]
  },
  {
   "cell_type": "markdown",
   "id": "75e763d2",
   "metadata": {},
   "source": [
    "## Generating the training and test datasets"
   ]
  },
  {
   "cell_type": "code",
   "execution_count": null,
   "id": "7dc1ec83",
   "metadata": {},
   "outputs": [],
   "source": [
    "train_dir = \"/Users/bhuvaneshmarineni/ODU subject related/Computer Vision/dataset/dataset/train\"\n",
    "test_dir = \"/Users/bhuvaneshmarineni/ODU subject related/Computer Vision/dataset/dataset/test\"\n",
    "\n",
    "# Train Dataset\n",
    "train_dir = \"/Users/bhuvaneshmarineni/ODU subject related/Computer Vision/dataset/dataset/train\"\n",
    "#fresh \n",
    "apple_freshTr = os.path.join(train_dir, 'freshapples') \n",
    "banana_freshTr = os.path.join(train_dir, 'freshbanana')\n",
    "orange_freshTr = os.path.join(train_dir, 'freshoranges')\n",
    "\n",
    "#rotten\n",
    "apple_rotTr = os.path.join(train_dir, 'rottenapples')\n",
    "banana_rotTr = os.path.join(train_dir, 'rottenbanana')\n",
    "orange_rotTr = os.path.join(train_dir, 'rottenoranges')\n",
    "\n",
    "\n",
    "# Test Dataset\n",
    "test_dir = \"/Users/bhuvaneshmarineni/ODU subject related/Computer Vision/dataset/dataset/test\"\n",
    "#fresh\n",
    "apple_freshTe = os.path.join(test_dir, 'freshapples')\n",
    "banana_freshTe = os.path.join(test_dir, 'freshbanana')\n",
    "orange_freshTe = os.path.join(test_dir, 'freshoranges')\n",
    "\n",
    "#rotten\n",
    "apple_rotTe = os.path.join(test_dir, 'rottenapples')\n",
    "banana_rotTe = os.path.join(test_dir, 'rottenbanana')\n",
    "orange_rotTe = os.path.join(test_dir, 'rottenoranges')\n",
    "\n",
    "apple_freshTr_len=len(os.listdir(apple_freshTr))\n",
    "banana_freshTr_len=len(os.listdir(banana_freshTr))\n",
    "orange_freshTr_len=len(os.listdir(orange_freshTr))\n",
    "apple_rotTr_len=len(os.listdir(apple_rotTr))\n",
    "banana_rotTr_len=len(os.listdir(banana_rotTr))\n",
    "orange_rotTr_len=len(os.listdir(orange_rotTr))\n",
    "\n",
    "\n",
    "labels = os.listdir(\"/Users/bhuvaneshmarineni/ODU subject related/Computer Vision/dataset/dataset/train\")\n",
    "print(\"Classes names:\")\n",
    "print(\".............\")\n",
    "labels"
   ]
  },
  {
   "cell_type": "code",
   "execution_count": 21,
   "id": "d72a8396",
   "metadata": {},
   "outputs": [],
   "source": [
    "datagen = ImageDataGenerator( \n",
    "  rotation_range=20,\n",
    "  width_shift_range=0.1,\n",
    "  height_shift_range=0.1,\n",
    "  shear_range=0.1,\n",
    "  zoom_range=0.1,\n",
    "  horizontal_flip=True,\n",
    "  vertical_flip=True,\n",
    "  rescale=1./255,                           \n",
    "  preprocessing_function=keras.applications.vgg16.preprocess_input\n",
    "  )\n",
    "\n",
    "datagen1 = ImageDataGenerator(\n",
    "  rescale=1./255,                           \n",
    "  preprocessing_function=keras.applications.vgg16.preprocess_input\n",
    "  )"
   ]
  },
  {
   "cell_type": "code",
   "execution_count": null,
   "id": "45b2173c",
   "metadata": {},
   "outputs": [],
   "source": [
    "train_gen = datagen.flow_from_directory(train_dir, \n",
    "                                       target_size=[224,224],\n",
    "                                       color_mode='rgb', \n",
    "                                       class_mode=\"categorical\", \n",
    "                                       batch_size = 32, \n",
    "                                       shuffle=True) \n",
    "val_gen = datagen1.flow_from_directory(test_dir, \n",
    "                                       target_size=[224,224],\n",
    "                                       color_mode='rgb', \n",
    "                                       class_mode=\"categorical\",\n",
    "                                       batch_size = 32,\n",
    "                                       shuffle=True) "
   ]
  },
  {
   "cell_type": "code",
   "execution_count": null,
   "id": "2773615e",
   "metadata": {},
   "outputs": [],
   "source": [
    "train_gen.class_indices"
   ]
  },
  {
   "cell_type": "code",
   "execution_count": null,
   "id": "3fa79e72",
   "metadata": {},
   "outputs": [],
   "source": [
    "val_gen.class_indices\n"
   ]
  },
  {
   "cell_type": "markdown",
   "id": "71838eb9",
   "metadata": {},
   "source": [
    "## Developing the model for image classification"
   ]
  },
  {
   "cell_type": "code",
   "execution_count": null,
   "id": "ec6040d5",
   "metadata": {},
   "outputs": [],
   "source": [
    "def DL_model(input_shape, n_classes, optimizer='rmsprop', fine_tune=0):\n",
    "    \n",
    "    conv_base = VGG16(include_top=False, weights='imagenet', input_shape=input_shape)\n",
    "  \n",
    "    if fine_tune > 0:\n",
    "        for layer in conv_base.layers[:-fine_tune]:\n",
    "            layer.trainable = False\n",
    "    else:\n",
    "        for layer in conv_base.layers:\n",
    "            layer.trainable = False\n",
    "\n",
    "    top_model = conv_base.output\n",
    "    \n",
    "    top_model = GlobalAveragePooling2D()(top_model)\n",
    "\n",
    "    output_layer = Dense(n_classes, activation='softmax')(top_model)\n",
    "    \n",
    "    model = Model(inputs=conv_base.input, outputs=output_layer)\n",
    "\n",
    "    model.compile(optimizer=optimizer, loss='categorical_crossentropy', metrics=['accuracy'])\n",
    "    \n",
    "    return model\n",
    "\n",
    "input_shape = (224, 224, 3)\n",
    "n_classes=6\n",
    "\n",
    "vgg_model = DL_model(input_shape, n_classes, fine_tune=0)"
   ]
  },
  {
   "cell_type": "code",
   "execution_count": null,
   "id": "bc9130dc",
   "metadata": {},
   "outputs": [],
   "source": [
    "vgg_model.summary()"
   ]
  },
  {
   "cell_type": "code",
   "execution_count": null,
   "id": "51a9e3df",
   "metadata": {},
   "outputs": [],
   "source": [
    "checkpoint_filepath = 'vgg16_model_best_weights.h5'\n",
    "checkpoint = ModelCheckpoint(filepath=checkpoint_filepath,save_weights_only=True,monitor='val_accuracy',mode='max',save_best_only=True,verbose=1)\n",
    "vgg_history = vgg_model.fit(train_gen,validation_data=val_gen,\n",
    "          steps_per_epoch=train_gen.samples/train_gen.batch_size, \n",
    "          validation_steps=val_gen.samples/val_gen.batch_size, \n",
    "          epochs=5,callbacks=[checkpoint])"
   ]
  },
  {
   "cell_type": "markdown",
   "id": "72a7113e",
   "metadata": {},
   "source": [
    "## Visualizing the performance of the model"
   ]
  },
  {
   "cell_type": "code",
   "execution_count": null,
   "id": "b8bc4f96",
   "metadata": {},
   "outputs": [],
   "source": [
    "plt.plot(vgg_history.history['accuracy'])\n",
    "plt.plot(vgg_history.history['val_accuracy'])\n",
    "plt.title('Model Accuracy')\n",
    "plt.xlabel('Epochs')\n",
    "plt.ylabel('Accuracy')\n",
    "plt.legend(['Acc','Val'], loc = 'upper left')"
   ]
  },
  {
   "cell_type": "code",
   "execution_count": null,
   "id": "273005f1",
   "metadata": {},
   "outputs": [],
   "source": [
    "plt.plot(vgg_history.history['loss'])\n",
    "plt.plot(vgg_history.history['val_loss'])\n",
    "plt.title('Model Loss')\n",
    "plt.xlabel('Epochs')\n",
    "plt.ylabel('Loss')\n",
    "plt.legend(['loss','Val'], loc = 'upper left')"
   ]
  },
  {
   "cell_type": "code",
   "execution_count": null,
   "id": "89a6a03d",
   "metadata": {},
   "outputs": [],
   "source": [
    "model = DL_model(input_shape=(224, 224, 3), n_classes=6)\n",
    "model.load_weights('vgg16_model_best_weights.h5')\n",
    "\n",
    "# Load and preprocess the image\n",
    "img_path = '/Users/bhuvaneshmarineni/ODU subject related/Computer Vision/apple.jpg'\n",
    "img = image.load_img(img_path, target_size=(224, 224))\n",
    "x = image.img_to_array(img)\n",
    "x = np.expand_dims(x, axis=0)\n",
    "x = keras.applications.vgg16.preprocess_input(x)\n",
    "\n",
    "# Make predictions on the input image\n",
    "preds = model.predict(x)\n",
    "classes = ['freshapples', 'freshbanana', 'freshoranges', 'rottenapples', 'rottenbanana', 'rottenoranges']\n",
    "result = classes[np.argmax(preds)]\n",
    "\n",
    "# Check if the fruit is fresh or rotten\n",
    "if 'fresh' in result:\n",
    "    print('The fruit is fresh')\n",
    "else:\n",
    "    print('The fruit is rotten')"
   ]
  }
 ],
 "metadata": {
  "kernelspec": {
   "display_name": "Python 3",
   "language": "python",
   "name": "python3"
  },
  "language_info": {
   "codemirror_mode": {
    "name": "ipython",
    "version": 3
   },
   "file_extension": ".py",
   "mimetype": "text/x-python",
   "name": "python",
   "nbconvert_exporter": "python",
   "pygments_lexer": "ipython3",
   "version": "3.10.1"
  }
 },
 "nbformat": 4,
 "nbformat_minor": 5
}
